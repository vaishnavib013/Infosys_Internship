{
 "cells": [
  {
   "cell_type": "code",
   "execution_count": 66,
   "id": "cd61f9df-c844-48a3-b74d-a391b7712d29",
   "metadata": {},
   "outputs": [],
   "source": [
    "import pandas as pd\n",
    "import numpy as np \n",
    "import matplotlib.pyplot as plt\n",
    "import seaborn as sns"
   ]
  },
  {
   "cell_type": "markdown",
   "id": "148cff83-35d6-4717-a428-57b36efc7dad",
   "metadata": {},
   "source": [
    "# 1. Data Exploration"
   ]
  },
  {
   "cell_type": "code",
   "execution_count": 67,
   "id": "4e51759f-f410-4634-9358-09a2e3f0c694",
   "metadata": {
    "scrolled": true
   },
   "outputs": [
    {
     "data": {
      "text/html": [
       "<div>\n",
       "<style scoped>\n",
       "    .dataframe tbody tr th:only-of-type {\n",
       "        vertical-align: middle;\n",
       "    }\n",
       "\n",
       "    .dataframe tbody tr th {\n",
       "        vertical-align: top;\n",
       "    }\n",
       "\n",
       "    .dataframe thead th {\n",
       "        text-align: right;\n",
       "    }\n",
       "</style>\n",
       "<table border=\"1\" class=\"dataframe\">\n",
       "  <thead>\n",
       "    <tr style=\"text-align: right;\">\n",
       "      <th></th>\n",
       "      <th>Unnamed: 0</th>\n",
       "      <th>YearsExperience</th>\n",
       "      <th>Salary</th>\n",
       "    </tr>\n",
       "  </thead>\n",
       "  <tbody>\n",
       "    <tr>\n",
       "      <th>0</th>\n",
       "      <td>0</td>\n",
       "      <td>1.2</td>\n",
       "      <td>39344.0</td>\n",
       "    </tr>\n",
       "    <tr>\n",
       "      <th>1</th>\n",
       "      <td>1</td>\n",
       "      <td>1.4</td>\n",
       "      <td>46206.0</td>\n",
       "    </tr>\n",
       "    <tr>\n",
       "      <th>2</th>\n",
       "      <td>2</td>\n",
       "      <td>1.6</td>\n",
       "      <td>37732.0</td>\n",
       "    </tr>\n",
       "    <tr>\n",
       "      <th>3</th>\n",
       "      <td>3</td>\n",
       "      <td>2.1</td>\n",
       "      <td>43526.0</td>\n",
       "    </tr>\n",
       "    <tr>\n",
       "      <th>4</th>\n",
       "      <td>4</td>\n",
       "      <td>2.3</td>\n",
       "      <td>39892.0</td>\n",
       "    </tr>\n",
       "  </tbody>\n",
       "</table>\n",
       "</div>"
      ],
      "text/plain": [
       "   Unnamed: 0  YearsExperience   Salary\n",
       "0           0              1.2  39344.0\n",
       "1           1              1.4  46206.0\n",
       "2           2              1.6  37732.0\n",
       "3           3              2.1  43526.0\n",
       "4           4              2.3  39892.0"
      ]
     },
     "execution_count": 67,
     "metadata": {},
     "output_type": "execute_result"
    }
   ],
   "source": [
    "df=pd.read_csv(\"Salary_dataset.csv\")\n",
    "df.head()"
   ]
  },
  {
   "cell_type": "code",
   "execution_count": 68,
   "id": "2ed5c4cb-9657-4f90-811c-6933fe32ddc1",
   "metadata": {},
   "outputs": [
    {
     "data": {
      "text/plain": [
       "Index(['Unnamed: 0', 'YearsExperience', 'Salary'], dtype='object')"
      ]
     },
     "execution_count": 68,
     "metadata": {},
     "output_type": "execute_result"
    }
   ],
   "source": [
    "df.columns"
   ]
  },
  {
   "cell_type": "code",
   "execution_count": 69,
   "id": "4b23d5fd-070d-41a7-9629-4b0948e2565e",
   "metadata": {},
   "outputs": [
    {
     "data": {
      "text/plain": [
       "(30, 3)"
      ]
     },
     "execution_count": 69,
     "metadata": {},
     "output_type": "execute_result"
    }
   ],
   "source": [
    "df.shape"
   ]
  },
  {
   "cell_type": "markdown",
   "id": "66afc1b4-570a-40f0-87cf-78498be2acd0",
   "metadata": {},
   "source": [
    "#here the number of rows are 30 and columns are 3 "
   ]
  },
  {
   "cell_type": "code",
   "execution_count": 70,
   "id": "a6518053-cc1b-4499-92e8-3678333a57df",
   "metadata": {},
   "outputs": [
    {
     "data": {
      "text/plain": [
       "Unnamed: 0           int64\n",
       "YearsExperience    float64\n",
       "Salary             float64\n",
       "dtype: object"
      ]
     },
     "execution_count": 70,
     "metadata": {},
     "output_type": "execute_result"
    }
   ],
   "source": [
    "df.dtypes"
   ]
  },
  {
   "cell_type": "markdown",
   "id": "0ad8af97-ed54-4871-9564-1f15a6fe4f4e",
   "metadata": {},
   "source": [
    "# DATA CLEANING"
   ]
  },
  {
   "cell_type": "code",
   "execution_count": 71,
   "id": "b1da2bc5-cdcd-409d-9446-abd894c0fc27",
   "metadata": {},
   "outputs": [
    {
     "data": {
      "text/html": [
       "<div>\n",
       "<style scoped>\n",
       "    .dataframe tbody tr th:only-of-type {\n",
       "        vertical-align: middle;\n",
       "    }\n",
       "\n",
       "    .dataframe tbody tr th {\n",
       "        vertical-align: top;\n",
       "    }\n",
       "\n",
       "    .dataframe thead th {\n",
       "        text-align: right;\n",
       "    }\n",
       "</style>\n",
       "<table border=\"1\" class=\"dataframe\">\n",
       "  <thead>\n",
       "    <tr style=\"text-align: right;\">\n",
       "      <th></th>\n",
       "      <th>YearsExperience</th>\n",
       "      <th>Salary</th>\n",
       "    </tr>\n",
       "  </thead>\n",
       "  <tbody>\n",
       "    <tr>\n",
       "      <th>0</th>\n",
       "      <td>1.2</td>\n",
       "      <td>39344.0</td>\n",
       "    </tr>\n",
       "    <tr>\n",
       "      <th>1</th>\n",
       "      <td>1.4</td>\n",
       "      <td>46206.0</td>\n",
       "    </tr>\n",
       "    <tr>\n",
       "      <th>2</th>\n",
       "      <td>1.6</td>\n",
       "      <td>37732.0</td>\n",
       "    </tr>\n",
       "    <tr>\n",
       "      <th>3</th>\n",
       "      <td>2.1</td>\n",
       "      <td>43526.0</td>\n",
       "    </tr>\n",
       "    <tr>\n",
       "      <th>4</th>\n",
       "      <td>2.3</td>\n",
       "      <td>39892.0</td>\n",
       "    </tr>\n",
       "    <tr>\n",
       "      <th>5</th>\n",
       "      <td>3.0</td>\n",
       "      <td>56643.0</td>\n",
       "    </tr>\n",
       "    <tr>\n",
       "      <th>6</th>\n",
       "      <td>3.1</td>\n",
       "      <td>60151.0</td>\n",
       "    </tr>\n",
       "    <tr>\n",
       "      <th>7</th>\n",
       "      <td>3.3</td>\n",
       "      <td>54446.0</td>\n",
       "    </tr>\n",
       "    <tr>\n",
       "      <th>8</th>\n",
       "      <td>3.3</td>\n",
       "      <td>64446.0</td>\n",
       "    </tr>\n",
       "    <tr>\n",
       "      <th>9</th>\n",
       "      <td>3.8</td>\n",
       "      <td>57190.0</td>\n",
       "    </tr>\n",
       "    <tr>\n",
       "      <th>10</th>\n",
       "      <td>4.0</td>\n",
       "      <td>63219.0</td>\n",
       "    </tr>\n",
       "    <tr>\n",
       "      <th>11</th>\n",
       "      <td>4.1</td>\n",
       "      <td>55795.0</td>\n",
       "    </tr>\n",
       "    <tr>\n",
       "      <th>12</th>\n",
       "      <td>4.1</td>\n",
       "      <td>56958.0</td>\n",
       "    </tr>\n",
       "    <tr>\n",
       "      <th>13</th>\n",
       "      <td>4.2</td>\n",
       "      <td>57082.0</td>\n",
       "    </tr>\n",
       "    <tr>\n",
       "      <th>14</th>\n",
       "      <td>4.6</td>\n",
       "      <td>61112.0</td>\n",
       "    </tr>\n",
       "    <tr>\n",
       "      <th>15</th>\n",
       "      <td>5.0</td>\n",
       "      <td>67939.0</td>\n",
       "    </tr>\n",
       "    <tr>\n",
       "      <th>16</th>\n",
       "      <td>5.2</td>\n",
       "      <td>66030.0</td>\n",
       "    </tr>\n",
       "    <tr>\n",
       "      <th>17</th>\n",
       "      <td>5.4</td>\n",
       "      <td>83089.0</td>\n",
       "    </tr>\n",
       "    <tr>\n",
       "      <th>18</th>\n",
       "      <td>6.0</td>\n",
       "      <td>81364.0</td>\n",
       "    </tr>\n",
       "    <tr>\n",
       "      <th>19</th>\n",
       "      <td>6.1</td>\n",
       "      <td>93941.0</td>\n",
       "    </tr>\n",
       "    <tr>\n",
       "      <th>20</th>\n",
       "      <td>6.9</td>\n",
       "      <td>91739.0</td>\n",
       "    </tr>\n",
       "    <tr>\n",
       "      <th>21</th>\n",
       "      <td>7.2</td>\n",
       "      <td>98274.0</td>\n",
       "    </tr>\n",
       "    <tr>\n",
       "      <th>22</th>\n",
       "      <td>8.0</td>\n",
       "      <td>101303.0</td>\n",
       "    </tr>\n",
       "    <tr>\n",
       "      <th>23</th>\n",
       "      <td>8.3</td>\n",
       "      <td>113813.0</td>\n",
       "    </tr>\n",
       "    <tr>\n",
       "      <th>24</th>\n",
       "      <td>8.8</td>\n",
       "      <td>109432.0</td>\n",
       "    </tr>\n",
       "    <tr>\n",
       "      <th>25</th>\n",
       "      <td>9.1</td>\n",
       "      <td>105583.0</td>\n",
       "    </tr>\n",
       "    <tr>\n",
       "      <th>26</th>\n",
       "      <td>9.6</td>\n",
       "      <td>116970.0</td>\n",
       "    </tr>\n",
       "    <tr>\n",
       "      <th>27</th>\n",
       "      <td>9.7</td>\n",
       "      <td>112636.0</td>\n",
       "    </tr>\n",
       "    <tr>\n",
       "      <th>28</th>\n",
       "      <td>10.4</td>\n",
       "      <td>122392.0</td>\n",
       "    </tr>\n",
       "    <tr>\n",
       "      <th>29</th>\n",
       "      <td>10.6</td>\n",
       "      <td>121873.0</td>\n",
       "    </tr>\n",
       "  </tbody>\n",
       "</table>\n",
       "</div>"
      ],
      "text/plain": [
       "    YearsExperience    Salary\n",
       "0               1.2   39344.0\n",
       "1               1.4   46206.0\n",
       "2               1.6   37732.0\n",
       "3               2.1   43526.0\n",
       "4               2.3   39892.0\n",
       "5               3.0   56643.0\n",
       "6               3.1   60151.0\n",
       "7               3.3   54446.0\n",
       "8               3.3   64446.0\n",
       "9               3.8   57190.0\n",
       "10              4.0   63219.0\n",
       "11              4.1   55795.0\n",
       "12              4.1   56958.0\n",
       "13              4.2   57082.0\n",
       "14              4.6   61112.0\n",
       "15              5.0   67939.0\n",
       "16              5.2   66030.0\n",
       "17              5.4   83089.0\n",
       "18              6.0   81364.0\n",
       "19              6.1   93941.0\n",
       "20              6.9   91739.0\n",
       "21              7.2   98274.0\n",
       "22              8.0  101303.0\n",
       "23              8.3  113813.0\n",
       "24              8.8  109432.0\n",
       "25              9.1  105583.0\n",
       "26              9.6  116970.0\n",
       "27              9.7  112636.0\n",
       "28             10.4  122392.0\n",
       "29             10.6  121873.0"
      ]
     },
     "execution_count": 71,
     "metadata": {},
     "output_type": "execute_result"
    }
   ],
   "source": [
    "df= df.drop('Unnamed: 0', axis=1)\n",
    "df"
   ]
  },
  {
   "cell_type": "markdown",
   "id": "90fa4fcd-313d-48e2-9f2b-70906ec56554",
   "metadata": {},
   "source": [
    "# here the shape of the dataset is now columns=2 and rows=30\n",
    "# here we dropped the column Unnamed :0 as it was not needed"
   ]
  },
  {
   "cell_type": "markdown",
   "id": "ba8137af-69c8-449d-96f2-6c0694dccc2b",
   "metadata": {},
   "source": [
    "# Checking for missing values"
   ]
  },
  {
   "cell_type": "code",
   "execution_count": 72,
   "id": "25b3cc2d-2b80-43db-aab7-7a708667fc9c",
   "metadata": {},
   "outputs": [
    {
     "name": "stdout",
     "output_type": "stream",
     "text": [
      "<class 'pandas.core.frame.DataFrame'>\n",
      "RangeIndex: 30 entries, 0 to 29\n",
      "Data columns (total 2 columns):\n",
      " #   Column           Non-Null Count  Dtype  \n",
      "---  ------           --------------  -----  \n",
      " 0   YearsExperience  30 non-null     float64\n",
      " 1   Salary           30 non-null     float64\n",
      "dtypes: float64(2)\n",
      "memory usage: 612.0 bytes\n"
     ]
    }
   ],
   "source": [
    "df.info()"
   ]
  },
  {
   "cell_type": "code",
   "execution_count": 73,
   "id": "2a42fc94-853f-49cc-9107-52381252489b",
   "metadata": {},
   "outputs": [
    {
     "data": {
      "text/plain": [
       "YearsExperience    0\n",
       "Salary             0\n",
       "dtype: int64"
      ]
     },
     "execution_count": 73,
     "metadata": {},
     "output_type": "execute_result"
    }
   ],
   "source": [
    "df.isnull().sum()"
   ]
  },
  {
   "cell_type": "markdown",
   "id": "21f89dc4-44e8-44ef-9487-df7ec84206be",
   "metadata": {},
   "source": [
    "### No missing values found"
   ]
  },
  {
   "cell_type": "code",
   "execution_count": 74,
   "id": "26cffcff-8a78-4098-a60d-d90ba591098c",
   "metadata": {},
   "outputs": [
    {
     "data": {
      "text/plain": [
       "0"
      ]
     },
     "execution_count": 74,
     "metadata": {},
     "output_type": "execute_result"
    }
   ],
   "source": [
    "df.duplicated().sum()"
   ]
  },
  {
   "cell_type": "markdown",
   "id": "d8092523-7b8d-4130-b8d6-4218a88d144c",
   "metadata": {},
   "source": [
    "### No duplicates found. So, let's move towards understanding dataset"
   ]
  },
  {
   "cell_type": "markdown",
   "id": "78a24352-ec66-49ff-acd8-49ac1da9ade1",
   "metadata": {},
   "source": [
    "## Descriptive statistics"
   ]
  },
  {
   "cell_type": "code",
   "execution_count": 75,
   "id": "7a5b4be8-baae-40aa-9278-41440b4aae28",
   "metadata": {},
   "outputs": [
    {
     "data": {
      "text/html": [
       "<div>\n",
       "<style scoped>\n",
       "    .dataframe tbody tr th:only-of-type {\n",
       "        vertical-align: middle;\n",
       "    }\n",
       "\n",
       "    .dataframe tbody tr th {\n",
       "        vertical-align: top;\n",
       "    }\n",
       "\n",
       "    .dataframe thead th {\n",
       "        text-align: right;\n",
       "    }\n",
       "</style>\n",
       "<table border=\"1\" class=\"dataframe\">\n",
       "  <thead>\n",
       "    <tr style=\"text-align: right;\">\n",
       "      <th></th>\n",
       "      <th>YearsExperience</th>\n",
       "      <th>Salary</th>\n",
       "    </tr>\n",
       "  </thead>\n",
       "  <tbody>\n",
       "    <tr>\n",
       "      <th>count</th>\n",
       "      <td>30.000000</td>\n",
       "      <td>30.000000</td>\n",
       "    </tr>\n",
       "    <tr>\n",
       "      <th>mean</th>\n",
       "      <td>5.413333</td>\n",
       "      <td>76004.000000</td>\n",
       "    </tr>\n",
       "    <tr>\n",
       "      <th>std</th>\n",
       "      <td>2.837888</td>\n",
       "      <td>27414.429785</td>\n",
       "    </tr>\n",
       "    <tr>\n",
       "      <th>min</th>\n",
       "      <td>1.200000</td>\n",
       "      <td>37732.000000</td>\n",
       "    </tr>\n",
       "    <tr>\n",
       "      <th>25%</th>\n",
       "      <td>3.300000</td>\n",
       "      <td>56721.750000</td>\n",
       "    </tr>\n",
       "    <tr>\n",
       "      <th>50%</th>\n",
       "      <td>4.800000</td>\n",
       "      <td>65238.000000</td>\n",
       "    </tr>\n",
       "    <tr>\n",
       "      <th>75%</th>\n",
       "      <td>7.800000</td>\n",
       "      <td>100545.750000</td>\n",
       "    </tr>\n",
       "    <tr>\n",
       "      <th>max</th>\n",
       "      <td>10.600000</td>\n",
       "      <td>122392.000000</td>\n",
       "    </tr>\n",
       "  </tbody>\n",
       "</table>\n",
       "</div>"
      ],
      "text/plain": [
       "       YearsExperience         Salary\n",
       "count        30.000000      30.000000\n",
       "mean          5.413333   76004.000000\n",
       "std           2.837888   27414.429785\n",
       "min           1.200000   37732.000000\n",
       "25%           3.300000   56721.750000\n",
       "50%           4.800000   65238.000000\n",
       "75%           7.800000  100545.750000\n",
       "max          10.600000  122392.000000"
      ]
     },
     "execution_count": 75,
     "metadata": {},
     "output_type": "execute_result"
    }
   ],
   "source": [
    "df.describe()"
   ]
  },
  {
   "cell_type": "code",
   "execution_count": 76,
   "id": "14d9ef44-73b6-4dd3-983f-b1eef78e642f",
   "metadata": {},
   "outputs": [
    {
     "name": "stdout",
     "output_type": "stream",
     "text": [
      "Median Years of Experience: 4.8\n",
      "Median Salary: 65238.0\n"
     ]
    }
   ],
   "source": [
    "median_years = df['YearsExperience'].median()\n",
    "median_salary = df['Salary'].median()\n",
    "print(f\"Median Years of Experience: {median_years}\")\n",
    "print(f\"Median Salary: {median_salary}\")"
   ]
  },
  {
   "cell_type": "code",
   "execution_count": 45,
   "id": "77db506e-f228-40d2-a23f-28f6a8d64ee6",
   "metadata": {},
   "outputs": [
    {
     "name": "stdout",
     "output_type": "stream",
     "text": [
      "Mode Years of Experience: 3.3000000000000003\n",
      "Mode Salary: 37732.0\n"
     ]
    }
   ],
   "source": [
    "mode_years = df['YearsExperience'].mode()[0]\n",
    "mode_salary = df['Salary'].mode()[0]\n",
    "print(f\"Mode Years of Experience: {mode_years}\")\n",
    "print(f\"Mode Salary: {mode_salary}\")"
   ]
  },
  {
   "cell_type": "markdown",
   "id": "81f5926c-6490-4cdb-abd3-934ba169bb9e",
   "metadata": {},
   "source": [
    "## Descriptive statistics\n",
    "* Average experience:  5 years\t\n",
    "* Avereage of Salary: 76004 rs\n",
    "* Median Years of Experience: 4.8\n",
    "* Median Salary: 65238 rs\n",
    "* Most commonly occuring Years of Experience: 3 yrs\n",
    "* Mode Salary: 37732 rs"
   ]
  },
  {
   "cell_type": "markdown",
   "id": "a6aaa7f5-93ab-43a2-b596-417f063a236e",
   "metadata": {},
   "source": [
    "## Conclusion\n",
    "* The mean and mode are not matching as most people have 5 yrs of exp but common occuring is 3 ys, does this mean there are outlier? \n",
    "* The average salary is high, but the typical salary is about 65,238 INR. Many people earn 37,732 INR, which may be due to lower-paying jobs."
   ]
  },
  {
   "cell_type": "markdown",
   "id": "f60f3026-bdab-48dc-9aad-26d3116a8c37",
   "metadata": {},
   "source": [
    "# Checking for Outliers"
   ]
  },
  {
   "cell_type": "code",
   "execution_count": 46,
   "id": "481cdcef-4698-42d5-bdab-060b3f538a99",
   "metadata": {},
   "outputs": [
    {
     "name": "stdout",
     "output_type": "stream",
     "text": [
      "Outliers in YearsExperience:\n",
      "Empty DataFrame\n",
      "Columns: [YearsExperience, Salary]\n",
      "Index: []\n",
      "Outliers in Salary:\n",
      "Empty DataFrame\n",
      "Columns: [YearsExperience, Salary]\n",
      "Index: []\n"
     ]
    }
   ],
   "source": [
    "for column in ['YearsExperience', 'Salary']:\n",
    "    Q1, Q3 = df[column].quantile([0.25, 0.75])\n",
    "    IQR = Q3 - Q1\n",
    "    outliers = df[(df[column] < Q1 - 1.5 * IQR) | (df[column] > Q3 + 1.5 * IQR)]\n",
    "    print(f\"Outliers in {column}:\")\n",
    "    print(outliers)"
   ]
  },
  {
   "cell_type": "markdown",
   "id": "fded9832-95f8-438f-a873-9b13d5d23dd4",
   "metadata": {},
   "source": [
    "#### Ok, so there are no outliers so lets check for skewdness in histogram\n",
    "# Univariate Analysis\n"
   ]
  },
  {
   "cell_type": "code",
   "execution_count": 47,
   "id": "547db6d9-d096-43b1-838e-4d96e1d0dc6b",
   "metadata": {},
   "outputs": [
    {
     "data": {
      "text/plain": [
       "<Axes: xlabel='YearsExperience', ylabel='Count'>"
      ]
     },
     "execution_count": 47,
     "metadata": {},
     "output_type": "execute_result"
    },
    {
     "data": {
      "image/png": "[encoded data removed]",
      "text/plain": [
       "<Figure size 640x480 with 1 Axes>"
      ]
     },
     "metadata": {},
     "output_type": "display_data"
    }
   ],
   "source": [
    "sns.histplot(df['YearsExperience'],bins=10,kde=True)"
   ]
  },
  {
   "cell_type": "markdown",
   "id": "e9617a3c-aa8f-40ab-9893-6cd11c8cde7b",
   "metadata": {},
   "source": [
    "* Most employees have 3–5 years of experience.\n",
    "* Fewer employees have 8+ years of experience.\n",
    "* The distribution is slightly right-skewed.\n",
    "* The peak frequency is around 4 years of experience."
   ]
  },
  {
   "cell_type": "code",
   "execution_count": 48,
   "id": "59fbc9e7-a9bb-4d1c-8822-d6f979219a0a",
   "metadata": {},
   "outputs": [
    {
     "data": {
      "image/png": "[encoded data removed]",
      "text/plain": [
       "<Figure size 1000x400 with 2 Axes>"
      ]
     },
     "metadata": {},
     "output_type": "display_data"
    }
   ],
   "source": [
    "plt.figure(figsize=(10, 4))\n",
    "plt.subplot(1, 2, 1)\n",
    "sns.boxplot(x=df['YearsExperience'])\n",
    "plt.subplot(1, 2, 2)\n",
    "sns.boxplot(x=df['Salary'], color='red')\n",
    "plt.title('Boxplot of Salary')\n",
    "plt.xlabel('Salary')\n",
    "plt.tight_layout()\n",
    "plt.show()"
   ]
  },
  {
   "cell_type": "markdown",
   "id": "c7984e28-8a01-4cd5-9f65-8d7e875103b2",
   "metadata": {},
   "source": [
    "### - most people are haveing more than four years of exp.\n",
    "### - Most people are having salaray more than 60k above\n"
   ]
  },
  {
   "cell_type": "markdown",
   "id": "96d04ac3-dda6-4d2a-9e5e-e8ff143c14e0",
   "metadata": {},
   "source": [
    "### Many people are not new employers"
   ]
  },
  {
   "cell_type": "markdown",
   "id": "5ed76eff-619e-42c5-b7d3-a6f47be9cc98",
   "metadata": {},
   "source": [
    "# Bivariate Analysis"
   ]
  },
  {
   "cell_type": "code",
   "execution_count": 49,
   "id": "003ee5de-4150-469a-a7b8-76b63dd9f1b9",
   "metadata": {},
   "outputs": [
    {
     "data": {
      "text/plain": [
       "<Axes: xlabel='YearsExperience', ylabel='Salary'>"
      ]
     },
     "execution_count": 49,
     "metadata": {},
     "output_type": "execute_result"
    },
    {
     "data": {
      "image/png": "[encoded data removed]",
      "text/plain": [
       "<Figure size 640x480 with 1 Axes>"
      ]
     },
     "metadata": {},
     "output_type": "display_data"
    }
   ],
   "source": [
    "sns.scatterplot(df,x='YearsExperience',y='Salary')"
   ]
  },
  {
   "cell_type": "markdown",
   "id": "e2afb6b2-5fcb-4db7-8eb9-658d374b3db7",
   "metadata": {},
   "source": [
    "* the more experience the more the salary"
   ]
  },
  {
   "cell_type": "code",
   "execution_count": 50,
   "id": "7356b5da-ea1f-4e09-bd59-7729ab061365",
   "metadata": {},
   "outputs": [
    {
     "data": {
      "text/plain": [
       "<Axes: >"
      ]
     },
     "execution_count": 50,
     "metadata": {},
     "output_type": "execute_result"
    },
    {
     "data": {
      "image/png": "[encoded data removed]",
      "text/plain": [
       "<Figure size 640x480 with 2 Axes>"
      ]
     },
     "metadata": {},
     "output_type": "display_data"
    }
   ],
   "source": [
    "x=df.corr()\n",
    "sns.heatmap(x,annot=True)"
   ]
  },
  {
   "cell_type": "markdown",
   "id": "d0342df4-553f-4e10-bbd2-cb6eba2a9bf6",
   "metadata": {},
   "source": [
    "\n",
    "* ### Insights:\n",
    "* Positive Trend: Salary increases as Years of Experience increase.\n",
    "* Linear Relationship: The regression line shows a strong linear correlation.\n",
    "* Consistent Growth: Salary growth is steady without significant fluctuations.\n",
    "* Minor Deviations: Some points slightly deviate from the regression line, indicating outliers or individual variations."
   ]
  },
  {
   "cell_type": "code",
   "execution_count": null,
   "id": "e7e75efa-9cb3-404a-90ad-92deac3838ce",
   "metadata": {},
   "outputs": [],
   "source": []
  },
  {
   "cell_type": "code",
   "execution_count": 51,
   "id": "038947cf-0d67-4101-9b7d-1d149a536168",
   "metadata": {},
   "outputs": [
    {
     "name": "stdout",
     "output_type": "stream",
     "text": [
      "Skewness of YearsExperience: 0.37956024064804234\n",
      "Skewness of Salary: 0.35411967922959153\n"
     ]
    }
   ],
   "source": [
    "print(\"Skewness of YearsExperience:\", df['YearsExperience'].skew())\n",
    "print(\"Skewness of Salary:\", df['Salary'].skew())\n",
    "df['YearsExperience_log'] = np.log1p(df['YearsExperience'])  # log1p handles zero values\n",
    "df['Salary_log'] = np.log1p(df['Salary'])\n",
    "X = df[['YearsExperience_log']]\n",
    "y = df['Salary_log']\n"
   ]
  },
  {
   "cell_type": "code",
   "execution_count": 52,
   "id": "cb067dc7-e581-437b-b295-8ec7a0cd6db1",
   "metadata": {},
   "outputs": [],
   "source": [
    "#As there is variation in the salary and Years of Experience \n",
    "#so lets perform minmax scaling and normalize it into the range 0 to 1 \n",
    "\n",
    "from sklearn.preprocessing import MinMaxScaler\n",
    "min=MinMaxScaler()\n",
    "df['YearsExperience']=min.fit_transform(df[['YearsExperience']])"
   ]
  },
  {
   "cell_type": "code",
   "execution_count": 53,
   "id": "0bee5de2-d3fb-46dd-b0d9-8ab98c605be3",
   "metadata": {},
   "outputs": [
    {
     "data": {
      "text/plain": [
       "0     0.000000\n",
       "1     0.021277\n",
       "2     0.042553\n",
       "3     0.095745\n",
       "4     0.117021\n",
       "5     0.191489\n",
       "6     0.202128\n",
       "7     0.223404\n",
       "8     0.223404\n",
       "9     0.276596\n",
       "10    0.297872\n",
       "11    0.308511\n",
       "12    0.308511\n",
       "13    0.319149\n",
       "14    0.361702\n",
       "15    0.404255\n",
       "16    0.425532\n",
       "17    0.446809\n",
       "18    0.510638\n",
       "19    0.521277\n",
       "20    0.606383\n",
       "21    0.638298\n",
       "22    0.723404\n",
       "23    0.755319\n",
       "24    0.808511\n",
       "25    0.840426\n",
       "26    0.893617\n",
       "27    0.904255\n",
       "28    0.978723\n",
       "29    1.000000\n",
       "Name: YearsExperience, dtype: float64"
      ]
     },
     "execution_count": 53,
     "metadata": {},
     "output_type": "execute_result"
    }
   ],
   "source": [
    "df['YearsExperience']"
   ]
  },
  {
   "cell_type": "code",
   "execution_count": 54,
   "id": "597782e8-bf6b-41f3-8742-15e836891aa2",
   "metadata": {},
   "outputs": [
    {
     "data": {
      "text/plain": [
       "0     0.019041\n",
       "1     0.100094\n",
       "2     0.000000\n",
       "3     0.068438\n",
       "4     0.025514\n",
       "5     0.223376\n",
       "6     0.264812\n",
       "7     0.197425\n",
       "8     0.315545\n",
       "9     0.229837\n",
       "10    0.301051\n",
       "11    0.213359\n",
       "12    0.227097\n",
       "13    0.228561\n",
       "14    0.276163\n",
       "15    0.356804\n",
       "16    0.334255\n",
       "17    0.535755\n",
       "18    0.515379\n",
       "19    0.663938\n",
       "20    0.637928\n",
       "21    0.715119\n",
       "22    0.750898\n",
       "23    0.898665\n",
       "24    0.846917\n",
       "25    0.801453\n",
       "26    0.935956\n",
       "27    0.884763\n",
       "28    1.000000\n",
       "29    0.993870\n",
       "Name: Salary, dtype: float64"
      ]
     },
     "execution_count": 54,
     "metadata": {},
     "output_type": "execute_result"
    }
   ],
   "source": [
    "df['Salary']=min.fit_transform(df[['Salary']])\n",
    "df['Salary']"
   ]
  },
  {
   "cell_type": "markdown",
   "id": "74f79874-9c19-4fdc-ba09-261d295b6014",
   "metadata": {},
   "source": [
    "# Log Transformation:\n",
    "As the skewness of the dataset is not that good so for that we will perform the Logtransformation \n",
    "\n",
    "so that it will give more accuracy when is model is built"
   ]
  },
  {
   "cell_type": "code",
   "execution_count": 55,
   "id": "874ae00d-4fb0-4ba7-b85c-09f35bc1f334",
   "metadata": {},
   "outputs": [],
   "source": [
    "from sklearn.preprocessing import FunctionTransformer"
   ]
  },
  {
   "cell_type": "code",
   "execution_count": 56,
   "id": "58e86dee-7375-4bed-a7d6-6bb051e56a40",
   "metadata": {},
   "outputs": [],
   "source": [
    "trans=FunctionTransformer(np.log1p)\n",
    "df['YearsExperience']=trans.fit_transform(df['YearsExperience'])"
   ]
  },
  {
   "cell_type": "code",
   "execution_count": 57,
   "id": "7d9a8b62-946c-4676-aa23-a2beeddf1629",
   "metadata": {},
   "outputs": [
    {
     "name": "stderr",
     "output_type": "stream",
     "text": [
      "C:\\Users\\Prince\\AppData\\Local\\Temp\\ipykernel_8732\\2989183013.py:1: UserWarning: \n",
      "\n",
      "`distplot` is a deprecated function and will be removed in seaborn v0.14.0.\n",
      "\n",
      "Please adapt your code to use either `displot` (a figure-level function with\n",
      "similar flexibility) or `kdeplot` (an axes-level function for kernel density plots).\n",
      "\n",
      "For a guide to updating your code to use the new functions, please see\n",
      "https://gist.github.com/mwaskom/de44147ed2974457ad6372750bbe5751\n",
      "\n",
      "  sns.distplot(df['YearsExperience'],hist=False)\n"
     ]
    },
    {
     "data": {
      "text/plain": [
       "<Axes: xlabel='YearsExperience', ylabel='Density'>"
      ]
     },
     "execution_count": 57,
     "metadata": {},
     "output_type": "execute_result"
    },
    {
     "data": {
      "image/png": "[encoded data removed]",
      "text/plain": [
       "<Figure size 640x480 with 1 Axes>"
      ]
     },
     "metadata": {},
     "output_type": "display_data"
    }
   ],
   "source": [
    "sns.distplot(df['YearsExperience'],hist=False)"
   ]
  },
  {
   "cell_type": "code",
   "execution_count": 58,
   "id": "bab2f2c0-dd3b-45f1-bc85-47b3ef653e7a",
   "metadata": {},
   "outputs": [
    {
     "name": "stderr",
     "output_type": "stream",
     "text": [
      "C:\\Users\\Prince\\AppData\\Local\\Temp\\ipykernel_8732\\3074104885.py:1: UserWarning: \n",
      "\n",
      "`distplot` is a deprecated function and will be removed in seaborn v0.14.0.\n",
      "\n",
      "Please adapt your code to use either `displot` (a figure-level function with\n",
      "similar flexibility) or `kdeplot` (an axes-level function for kernel density plots).\n",
      "\n",
      "For a guide to updating your code to use the new functions, please see\n",
      "https://gist.github.com/mwaskom/de44147ed2974457ad6372750bbe5751\n",
      "\n",
      "  sns.distplot(df['Salary'],hist=False)\n"
     ]
    },
    {
     "data": {
      "text/plain": [
       "<Axes: xlabel='Salary', ylabel='Density'>"
      ]
     },
     "execution_count": 58,
     "metadata": {},
     "output_type": "execute_result"
    },
    {
     "data": {
      "image/png": "[encoded data removed]",
      "text/plain": [
       "<Figure size 640x480 with 1 Axes>"
      ]
     },
     "metadata": {},
     "output_type": "display_data"
    }
   ],
   "source": [
    "sns.distplot(df['Salary'],hist=False)"
   ]
  },
  {
   "cell_type": "code",
   "execution_count": 59,
   "id": "f79225b9-4329-4c55-bd35-4272dc964ddf",
   "metadata": {},
   "outputs": [
    {
     "data": {
      "text/plain": [
       "0     0.018862\n",
       "1     0.095396\n",
       "2     0.000000\n",
       "3     0.066198\n",
       "4     0.025194\n",
       "5     0.201614\n",
       "6     0.234924\n",
       "7     0.180173\n",
       "8     0.274251\n",
       "9     0.206882\n",
       "10    0.263173\n",
       "11    0.193393\n",
       "12    0.204651\n",
       "13    0.205844\n",
       "14    0.243858\n",
       "15    0.305132\n",
       "16    0.288373\n",
       "17    0.429022\n",
       "18    0.415666\n",
       "19    0.509187\n",
       "20    0.493432\n",
       "21    0.539483\n",
       "22    0.560129\n",
       "23    0.641151\n",
       "24    0.613518\n",
       "25    0.588593\n",
       "26    0.660601\n",
       "27    0.633802\n",
       "28    0.693147\n",
       "29    0.690077\n",
       "Name: Salary, dtype: float64"
      ]
     },
     "execution_count": 59,
     "metadata": {},
     "output_type": "execute_result"
    }
   ],
   "source": [
    "df['Salary']=trans.fit_transform(df['Salary'])\n",
    "df['Salary']"
   ]
  },
  {
   "cell_type": "code",
   "execution_count": 60,
   "id": "757e470c-8737-436c-9b79-f9ab28d34e8a",
   "metadata": {},
   "outputs": [
    {
     "name": "stderr",
     "output_type": "stream",
     "text": [
      "C:\\Users\\Prince\\AppData\\Local\\Temp\\ipykernel_8732\\3074104885.py:1: UserWarning: \n",
      "\n",
      "`distplot` is a deprecated function and will be removed in seaborn v0.14.0.\n",
      "\n",
      "Please adapt your code to use either `displot` (a figure-level function with\n",
      "similar flexibility) or `kdeplot` (an axes-level function for kernel density plots).\n",
      "\n",
      "For a guide to updating your code to use the new functions, please see\n",
      "https://gist.github.com/mwaskom/de44147ed2974457ad6372750bbe5751\n",
      "\n",
      "  sns.distplot(df['Salary'],hist=False)\n"
     ]
    },
    {
     "data": {
      "text/plain": [
       "<Axes: xlabel='Salary', ylabel='Density'>"
      ]
     },
     "execution_count": 60,
     "metadata": {},
     "output_type": "execute_result"
    },
    {
     "data": {
      "image/png": "[encoded data removed]",
      "text/plain": [
       "<Figure size 640x480 with 1 Axes>"
      ]
     },
     "metadata": {},
     "output_type": "display_data"
    }
   ],
   "source": [
    "sns.distplot(df['Salary'],hist=False)"
   ]
  },
  {
   "cell_type": "markdown",
   "id": "4ce500a4-e5be-4b6b-a6e0-a3683a5bbb21",
   "metadata": {},
   "source": [
    "# Model Building and Evaluation"
   ]
  },
  {
   "cell_type": "code",
   "execution_count": 61,
   "id": "40eb3dbc-4ddb-4d06-b10d-6de2431fa425",
   "metadata": {},
   "outputs": [],
   "source": [
    "from sklearn.model_selection import train_test_split\n",
    "from sklearn.preprocessing import PolynomialFeatures"
   ]
  },
  {
   "cell_type": "markdown",
   "id": "2f543c0a-89c0-4ec8-882e-77ffca787a93",
   "metadata": {},
   "source": [
    "* Feature Engineering: Polynomial Features\n",
    "* Adding polynomial terms can help capture non-linear relationships."
   ]
  },
  {
   "cell_type": "code",
   "execution_count": 62,
   "id": "50ceef74-7bd5-4537-bb88-ee25b157bc40",
   "metadata": {},
   "outputs": [],
   "source": [
    "X = np.random.rand(100, 1)\n",
    "y = 3 * X**2 + 2 * X + 1\n",
    "X_train, X_test, y_train, y_test = train_test_split(X, y, test_size=0.2, random_state=42)\n",
    "plo = PolynomialFeatures()\n",
    "X_train_pol = plo.fit_transform(X_train)\n",
    "X_test_pol = plo.transform(X_test)"
   ]
  },
  {
   "cell_type": "code",
   "execution_count": 63,
   "id": "f091487c-520d-4e79-83ea-f58ee9500402",
   "metadata": {},
   "outputs": [
    {
     "name": "stdout",
     "output_type": "stream",
     "text": [
      "Original X_train:\n",
      "[[0.50183245]\n",
      " [0.70005759]\n",
      " [0.66191287]\n",
      " [0.95544594]\n",
      " [0.0995875 ]]\n",
      "\n",
      "Transformed X_train_pol:\n",
      "[[1.         0.50183245 0.2518358 ]\n",
      " [1.         0.70005759 0.49008063]\n",
      " [1.         0.66191287 0.43812865]\n",
      " [1.         0.95544594 0.91287694]\n",
      " [1.         0.0995875  0.00991767]]\n"
     ]
    }
   ],
   "source": [
    "print(\"Original X_train:\")\n",
    "print(X_train[:5])  # Display the first 5 rows of the original training data\n",
    "\n",
    "print(\"\\nTransformed X_train_pol:\")\n",
    "print(X_train_pol[:5])  # Display the first 5 rows of the transformed training data\n"
   ]
  },
  {
   "cell_type": "code",
   "execution_count": 64,
   "id": "776959a6-917b-41f2-9409-669aa7ab5573",
   "metadata": {},
   "outputs": [
    {
     "data": {
      "image/png": "[encoded data removed]",
      "text/plain": [
       "<Figure size 640x480 with 1 Axes>"
      ]
     },
     "metadata": {},
     "output_type": "display_data"
    }
   ],
   "source": [
    "plt.scatter(X_train, y_train, color=\"blue\", label=\"Original Data\")\n",
    "plt.scatter(X_train, X_train_pol[:, 1], color=\"red\", label=\"Polynomial Transformation\")\n",
    "plt.legend()\n",
    "plt.show()"
   ]
  },
  {
   "cell_type": "code",
   "execution_count": 65,
   "id": "f2c19678-72e2-4d9f-805e-476387e1e5cc",
   "metadata": {},
   "outputs": [
    {
     "name": "stdout",
     "output_type": "stream",
     "text": [
      "R² Score: 1.0\n"
     ]
    }
   ],
   "source": [
    "from sklearn.metrics import r2_score\n",
    "from sklearn.linear_model import LinearRegression\n",
    "\n",
    "linear = LinearRegression()\n",
    "linear.fit(X_train_pol, y_train)\n",
    "y_pre = linear.predict(X_test_pol)\n",
    "r2 = r2_score(y_test, y_pre)\n",
    "print(f\"R² Score: {r2}\")"
   ]
  },
  {
   "cell_type": "code",
   "execution_count": null,
   "id": "3edbe43c-44ba-44b6-b1ff-37e35f297740",
   "metadata": {},
   "outputs": [],
   "source": []
  },
  {
   "cell_type": "code",
   "execution_count": null,
   "id": "77e2029c-8b5e-4e72-ad43-ce4ffdaa35fb",
   "metadata": {},
   "outputs": [],
   "source": []
  },
  {
   "cell_type": "code",
   "execution_count": null,
   "id": "1cfc229b-e274-4ead-b690-4f5e1f0dd826",
   "metadata": {},
   "outputs": [],
   "source": []
  },
  {
   "cell_type": "code",
   "execution_count": null,
   "id": "f2197870-db24-48d5-9371-16cb59ea99d8",
   "metadata": {},
   "outputs": [],
   "source": []
  },
  {
   "cell_type": "code",
   "execution_count": null,
   "id": "43a4dc94-9f82-49b0-8eb4-04aafc91db74",
   "metadata": {},
   "outputs": [],
   "source": []
  },
  {
   "cell_type": "code",
   "execution_count": null,
   "id": "2fc004c0-7004-4182-990c-8c18106eede0",
   "metadata": {},
   "outputs": [],
   "source": []
  },
  {
   "cell_type": "code",
   "execution_count": null,
   "id": "eeaf93d8-0d8f-4a8f-ab4e-58a22198457f",
   "metadata": {},
   "outputs": [],
   "source": []
  },
  {
   "cell_type": "code",
   "execution_count": null,
   "id": "c6cf6ca0-c1d3-4bb0-831a-3a7f92365cb6",
   "metadata": {},
   "outputs": [],
   "source": []
  },
  {
   "cell_type": "code",
   "execution_count": null,
   "id": "a0568580-f74d-4b8e-a92e-e8eddcaf4cdc",
   "metadata": {},
   "outputs": [],
   "source": []
  },
  {
   "cell_type": "code",
   "execution_count": null,
   "id": "76c19f87-6298-4054-b8de-ec65fd2c217a",
   "metadata": {},
   "outputs": [],
   "source": []
  },
  {
   "cell_type": "code",
   "execution_count": null,
   "id": "9c6b43f3-5888-4419-9553-1eb6ad14d706",
   "metadata": {},
   "outputs": [],
   "source": []
  },
  {
   "cell_type": "code",
   "execution_count": null,
   "id": "52f8b738-9476-4d8d-8fbb-451bd5e3eab6",
   "metadata": {},
   "outputs": [],
   "source": []
  },
  {
   "cell_type": "code",
   "execution_count": null,
   "id": "979e568e-a525-4f94-a5e5-392da59728e7",
   "metadata": {},
   "outputs": [],
   "source": []
  },
  {
   "cell_type": "code",
   "execution_count": null,
   "id": "c2ba598f-0ef2-4538-9bfb-b9356a8cfa0f",
   "metadata": {},
   "outputs": [],
   "source": []
  },
  {
   "cell_type": "code",
   "execution_count": null,
   "id": "8c9b524c-1611-4e20-94f8-589b7e0156c5",
   "metadata": {},
   "outputs": [],
   "source": []
  },
  {
   "cell_type": "code",
   "execution_count": null,
   "id": "08d289e1-8ef2-4443-8480-b008e9e799b6",
   "metadata": {},
   "outputs": [],
   "source": []
  },
  {
   "cell_type": "code",
   "execution_count": null,
   "id": "30f28e49-64f7-4a8f-a777-f8b1531c1228",
   "metadata": {},
   "outputs": [],
   "source": []
  }
 ],
 "metadata": {
  "kernelspec": {
   "display_name": "Python 3 (ipykernel)",
   "language": "python",
   "name": "python3"
  },
  "language_info": {
   "codemirror_mode": {
    "name": "ipython",
    "version": 3
   },
   "file_extension": ".py",
   "mimetype": "text/x-python",
   "name": "python",
   "nbconvert_exporter": "python",
   "pygments_lexer": "ipython3",
   "version": "3.12.3"
  }
 },
 "nbformat": 4,
 "nbformat_minor": 5
}
