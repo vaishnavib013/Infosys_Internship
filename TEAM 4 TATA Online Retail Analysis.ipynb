{
 "cells": [
  {
   "cell_type": "markdown",
   "id": "e3261435-43ce-4f00-9a17-f95605fa3511",
   "metadata": {},
   "source": [
    "## Step 1: Import neccessary libraries."
   ]
  },
  {
   "cell_type": "code",
   "execution_count": 2,
   "id": "49260942-3ca1-46b0-9f7e-30335d48075b",
   "metadata": {},
   "outputs": [],
   "source": [
    "import pandas as pd\n",
    "import numpy as np\n",
    "import seaborn as sns\n",
    "import matplotlib.pyplot as plt\n"
   ]
  },
  {
   "cell_type": "markdown",
   "id": "3894e11c-80ac-4116-9089-2c519d2b5337",
   "metadata": {},
   "source": [
    "## Step 2: load dataset"
   ]
  },
  {
   "cell_type": "code",
   "execution_count": 3,
   "id": "8b51f42c-e7d6-4482-b725-05c29fbce946",
   "metadata": {},
   "outputs": [],
   "source": [
    "df = pd.read_csv('Online Retail Data Set.csv',  encoding='latin1')"
   ]
  },
  {
   "cell_type": "code",
   "execution_count": 4,
   "id": "843edaaa-a5fe-48c7-bf19-d057de9aef4f",
   "metadata": {},
   "outputs": [
    {
     "data": {
      "text/html": [
       "<div>\n",
       "<style scoped>\n",
       "    .dataframe tbody tr th:only-of-type {\n",
       "        vertical-align: middle;\n",
       "    }\n",
       "\n",
       "    .dataframe tbody tr th {\n",
       "        vertical-align: top;\n",
       "    }\n",
       "\n",
       "    .dataframe thead th {\n",
       "        text-align: right;\n",
       "    }\n",
       "</style>\n",
       "<table border=\"1\" class=\"dataframe\">\n",
       "  <thead>\n",
       "    <tr style=\"text-align: right;\">\n",
       "      <th></th>\n",
       "      <th>InvoiceNo</th>\n",
       "      <th>StockCode</th>\n",
       "      <th>Description</th>\n",
       "      <th>Quantity</th>\n",
       "      <th>InvoiceDate</th>\n",
       "      <th>UnitPrice</th>\n",
       "      <th>CustomerID</th>\n",
       "      <th>Country</th>\n",
       "    </tr>\n",
       "  </thead>\n",
       "  <tbody>\n",
       "    <tr>\n",
       "      <th>0</th>\n",
       "      <td>536365</td>\n",
       "      <td>85123A</td>\n",
       "      <td>WHITE HANGING HEART T-LIGHT HOLDER</td>\n",
       "      <td>6</td>\n",
       "      <td>01-12-2010 08:26</td>\n",
       "      <td>2.55</td>\n",
       "      <td>17850.0</td>\n",
       "      <td>United Kingdom</td>\n",
       "    </tr>\n",
       "    <tr>\n",
       "      <th>1</th>\n",
       "      <td>536365</td>\n",
       "      <td>71053</td>\n",
       "      <td>WHITE METAL LANTERN</td>\n",
       "      <td>6</td>\n",
       "      <td>01-12-2010 08:26</td>\n",
       "      <td>3.39</td>\n",
       "      <td>17850.0</td>\n",
       "      <td>United Kingdom</td>\n",
       "    </tr>\n",
       "    <tr>\n",
       "      <th>2</th>\n",
       "      <td>536365</td>\n",
       "      <td>84406B</td>\n",
       "      <td>CREAM CUPID HEARTS COAT HANGER</td>\n",
       "      <td>8</td>\n",
       "      <td>01-12-2010 08:26</td>\n",
       "      <td>2.75</td>\n",
       "      <td>17850.0</td>\n",
       "      <td>United Kingdom</td>\n",
       "    </tr>\n",
       "    <tr>\n",
       "      <th>3</th>\n",
       "      <td>536365</td>\n",
       "      <td>84029G</td>\n",
       "      <td>KNITTED UNION FLAG HOT WATER BOTTLE</td>\n",
       "      <td>6</td>\n",
       "      <td>01-12-2010 08:26</td>\n",
       "      <td>3.39</td>\n",
       "      <td>17850.0</td>\n",
       "      <td>United Kingdom</td>\n",
       "    </tr>\n",
       "    <tr>\n",
       "      <th>4</th>\n",
       "      <td>536365</td>\n",
       "      <td>84029E</td>\n",
       "      <td>RED WOOLLY HOTTIE WHITE HEART.</td>\n",
       "      <td>6</td>\n",
       "      <td>01-12-2010 08:26</td>\n",
       "      <td>3.39</td>\n",
       "      <td>17850.0</td>\n",
       "      <td>United Kingdom</td>\n",
       "    </tr>\n",
       "  </tbody>\n",
       "</table>\n",
       "</div>"
      ],
      "text/plain": [
       "  InvoiceNo StockCode                          Description  Quantity  \\\n",
       "0    536365    85123A   WHITE HANGING HEART T-LIGHT HOLDER         6   \n",
       "1    536365     71053                  WHITE METAL LANTERN         6   \n",
       "2    536365    84406B       CREAM CUPID HEARTS COAT HANGER         8   \n",
       "3    536365    84029G  KNITTED UNION FLAG HOT WATER BOTTLE         6   \n",
       "4    536365    84029E       RED WOOLLY HOTTIE WHITE HEART.         6   \n",
       "\n",
       "        InvoiceDate  UnitPrice  CustomerID         Country  \n",
       "0  01-12-2010 08:26       2.55     17850.0  United Kingdom  \n",
       "1  01-12-2010 08:26       3.39     17850.0  United Kingdom  \n",
       "2  01-12-2010 08:26       2.75     17850.0  United Kingdom  \n",
       "3  01-12-2010 08:26       3.39     17850.0  United Kingdom  \n",
       "4  01-12-2010 08:26       3.39     17850.0  United Kingdom  "
      ]
     },
     "execution_count": 4,
     "metadata": {},
     "output_type": "execute_result"
    }
   ],
   "source": [
    "#head\n",
    "df.head()"
   ]
  },
  {
   "cell_type": "code",
   "execution_count": 5,
   "id": "0834fb0b-be93-4e75-894d-ea22e078bff4",
   "metadata": {},
   "outputs": [
    {
     "data": {
      "text/html": [
       "<div>\n",
       "<style scoped>\n",
       "    .dataframe tbody tr th:only-of-type {\n",
       "        vertical-align: middle;\n",
       "    }\n",
       "\n",
       "    .dataframe tbody tr th {\n",
       "        vertical-align: top;\n",
       "    }\n",
       "\n",
       "    .dataframe thead th {\n",
       "        text-align: right;\n",
       "    }\n",
       "</style>\n",
       "<table border=\"1\" class=\"dataframe\">\n",
       "  <thead>\n",
       "    <tr style=\"text-align: right;\">\n",
       "      <th></th>\n",
       "      <th>InvoiceNo</th>\n",
       "      <th>StockCode</th>\n",
       "      <th>Description</th>\n",
       "      <th>Quantity</th>\n",
       "      <th>InvoiceDate</th>\n",
       "      <th>UnitPrice</th>\n",
       "      <th>CustomerID</th>\n",
       "      <th>Country</th>\n",
       "    </tr>\n",
       "  </thead>\n",
       "  <tbody>\n",
       "    <tr>\n",
       "      <th>541904</th>\n",
       "      <td>581587</td>\n",
       "      <td>22613</td>\n",
       "      <td>PACK OF 20 SPACEBOY NAPKINS</td>\n",
       "      <td>12</td>\n",
       "      <td>09-12-2011 12:50</td>\n",
       "      <td>0.85</td>\n",
       "      <td>12680.0</td>\n",
       "      <td>France</td>\n",
       "    </tr>\n",
       "    <tr>\n",
       "      <th>541905</th>\n",
       "      <td>581587</td>\n",
       "      <td>22899</td>\n",
       "      <td>CHILDREN'S APRON DOLLY GIRL</td>\n",
       "      <td>6</td>\n",
       "      <td>09-12-2011 12:50</td>\n",
       "      <td>2.10</td>\n",
       "      <td>12680.0</td>\n",
       "      <td>France</td>\n",
       "    </tr>\n",
       "    <tr>\n",
       "      <th>541906</th>\n",
       "      <td>581587</td>\n",
       "      <td>23254</td>\n",
       "      <td>CHILDRENS CUTLERY DOLLY GIRL</td>\n",
       "      <td>4</td>\n",
       "      <td>09-12-2011 12:50</td>\n",
       "      <td>4.15</td>\n",
       "      <td>12680.0</td>\n",
       "      <td>France</td>\n",
       "    </tr>\n",
       "    <tr>\n",
       "      <th>541907</th>\n",
       "      <td>581587</td>\n",
       "      <td>23255</td>\n",
       "      <td>CHILDRENS CUTLERY CIRCUS PARADE</td>\n",
       "      <td>4</td>\n",
       "      <td>09-12-2011 12:50</td>\n",
       "      <td>4.15</td>\n",
       "      <td>12680.0</td>\n",
       "      <td>France</td>\n",
       "    </tr>\n",
       "    <tr>\n",
       "      <th>541908</th>\n",
       "      <td>581587</td>\n",
       "      <td>22138</td>\n",
       "      <td>BAKING SET 9 PIECE RETROSPOT</td>\n",
       "      <td>3</td>\n",
       "      <td>09-12-2011 12:50</td>\n",
       "      <td>4.95</td>\n",
       "      <td>12680.0</td>\n",
       "      <td>France</td>\n",
       "    </tr>\n",
       "  </tbody>\n",
       "</table>\n",
       "</div>"
      ],
      "text/plain": [
       "       InvoiceNo StockCode                      Description  Quantity  \\\n",
       "541904    581587     22613      PACK OF 20 SPACEBOY NAPKINS        12   \n",
       "541905    581587     22899     CHILDREN'S APRON DOLLY GIRL          6   \n",
       "541906    581587     23254    CHILDRENS CUTLERY DOLLY GIRL          4   \n",
       "541907    581587     23255  CHILDRENS CUTLERY CIRCUS PARADE         4   \n",
       "541908    581587     22138    BAKING SET 9 PIECE RETROSPOT          3   \n",
       "\n",
       "             InvoiceDate  UnitPrice  CustomerID Country  \n",
       "541904  09-12-2011 12:50       0.85     12680.0  France  \n",
       "541905  09-12-2011 12:50       2.10     12680.0  France  \n",
       "541906  09-12-2011 12:50       4.15     12680.0  France  \n",
       "541907  09-12-2011 12:50       4.15     12680.0  France  \n",
       "541908  09-12-2011 12:50       4.95     12680.0  France  "
      ]
     },
     "execution_count": 5,
     "metadata": {},
     "output_type": "execute_result"
    }
   ],
   "source": [
    "#tail\n",
    "df.tail()"
   ]
  },
  {
   "cell_type": "markdown",
   "id": "a8008e5b-e64c-4783-8eeb-042b377cb162",
   "metadata": {},
   "source": [
    "## Step 3: Sanity check of the data"
   ]
  },
  {
   "cell_type": "code",
   "execution_count": 6,
   "id": "f9aef9ad-4a4e-4233-a745-1dd18e10dba6",
   "metadata": {},
   "outputs": [
    {
     "data": {
      "text/plain": [
       "(541909, 8)"
      ]
     },
     "execution_count": 6,
     "metadata": {},
     "output_type": "execute_result"
    }
   ],
   "source": [
    "#shape\n",
    "df.shape"
   ]
  },
  {
   "cell_type": "code",
   "execution_count": 7,
   "id": "0bb97b7c-c350-4dd0-bdfe-1bea04416ee0",
   "metadata": {},
   "outputs": [
    {
     "name": "stdout",
     "output_type": "stream",
     "text": [
      "<class 'pandas.core.frame.DataFrame'>\n",
      "RangeIndex: 541909 entries, 0 to 541908\n",
      "Data columns (total 8 columns):\n",
      " #   Column       Non-Null Count   Dtype  \n",
      "---  ------       --------------   -----  \n",
      " 0   InvoiceNo    541909 non-null  object \n",
      " 1   StockCode    541909 non-null  object \n",
      " 2   Description  540455 non-null  object \n",
      " 3   Quantity     541909 non-null  int64  \n",
      " 4   InvoiceDate  541909 non-null  object \n",
      " 5   UnitPrice    541909 non-null  float64\n",
      " 6   CustomerID   406829 non-null  float64\n",
      " 7   Country      541909 non-null  object \n",
      "dtypes: float64(2), int64(1), object(5)\n",
      "memory usage: 33.1+ MB\n"
     ]
    }
   ],
   "source": [
    "df.info()"
   ]
  },
  {
   "cell_type": "code",
   "execution_count": 8,
   "id": "e50d6f88-1d0e-4866-8ecb-47d663b1c012",
   "metadata": {},
   "outputs": [
    {
     "data": {
      "text/html": [
       "<div>\n",
       "<style scoped>\n",
       "    .dataframe tbody tr th:only-of-type {\n",
       "        vertical-align: middle;\n",
       "    }\n",
       "\n",
       "    .dataframe tbody tr th {\n",
       "        vertical-align: top;\n",
       "    }\n",
       "\n",
       "    .dataframe thead th {\n",
       "        text-align: right;\n",
       "    }\n",
       "</style>\n",
       "<table border=\"1\" class=\"dataframe\">\n",
       "  <thead>\n",
       "    <tr style=\"text-align: right;\">\n",
       "      <th></th>\n",
       "      <th>Quantity</th>\n",
       "      <th>UnitPrice</th>\n",
       "      <th>CustomerID</th>\n",
       "    </tr>\n",
       "  </thead>\n",
       "  <tbody>\n",
       "    <tr>\n",
       "      <th>count</th>\n",
       "      <td>541909.000000</td>\n",
       "      <td>541909.000000</td>\n",
       "      <td>406829.000000</td>\n",
       "    </tr>\n",
       "    <tr>\n",
       "      <th>mean</th>\n",
       "      <td>9.552250</td>\n",
       "      <td>4.611114</td>\n",
       "      <td>15287.690570</td>\n",
       "    </tr>\n",
       "    <tr>\n",
       "      <th>std</th>\n",
       "      <td>218.081158</td>\n",
       "      <td>96.759853</td>\n",
       "      <td>1713.600303</td>\n",
       "    </tr>\n",
       "    <tr>\n",
       "      <th>min</th>\n",
       "      <td>-80995.000000</td>\n",
       "      <td>-11062.060000</td>\n",
       "      <td>12346.000000</td>\n",
       "    </tr>\n",
       "    <tr>\n",
       "      <th>25%</th>\n",
       "      <td>1.000000</td>\n",
       "      <td>1.250000</td>\n",
       "      <td>13953.000000</td>\n",
       "    </tr>\n",
       "    <tr>\n",
       "      <th>50%</th>\n",
       "      <td>3.000000</td>\n",
       "      <td>2.080000</td>\n",
       "      <td>15152.000000</td>\n",
       "    </tr>\n",
       "    <tr>\n",
       "      <th>75%</th>\n",
       "      <td>10.000000</td>\n",
       "      <td>4.130000</td>\n",
       "      <td>16791.000000</td>\n",
       "    </tr>\n",
       "    <tr>\n",
       "      <th>max</th>\n",
       "      <td>80995.000000</td>\n",
       "      <td>38970.000000</td>\n",
       "      <td>18287.000000</td>\n",
       "    </tr>\n",
       "  </tbody>\n",
       "</table>\n",
       "</div>"
      ],
      "text/plain": [
       "            Quantity      UnitPrice     CustomerID\n",
       "count  541909.000000  541909.000000  406829.000000\n",
       "mean        9.552250       4.611114   15287.690570\n",
       "std       218.081158      96.759853    1713.600303\n",
       "min    -80995.000000  -11062.060000   12346.000000\n",
       "25%         1.000000       1.250000   13953.000000\n",
       "50%         3.000000       2.080000   15152.000000\n",
       "75%        10.000000       4.130000   16791.000000\n",
       "max     80995.000000   38970.000000   18287.000000"
      ]
     },
     "execution_count": 8,
     "metadata": {},
     "output_type": "execute_result"
    }
   ],
   "source": [
    "df.describe()"
   ]
  },
  {
   "cell_type": "markdown",
   "id": "1d66782d-a37e-4918-bc7f-413a7a981383",
   "metadata": {},
   "source": [
    "### Handling Missing Values"
   ]
  },
  {
   "cell_type": "code",
   "execution_count": 9,
   "id": "4b0ed007-fcb8-4f23-ad44-d0a1f3012f0c",
   "metadata": {},
   "outputs": [
    {
     "data": {
      "text/plain": [
       "InvoiceNo           0\n",
       "StockCode           0\n",
       "Description      1454\n",
       "Quantity            0\n",
       "InvoiceDate         0\n",
       "UnitPrice           0\n",
       "CustomerID     135080\n",
       "Country             0\n",
       "dtype: int64"
      ]
     },
     "execution_count": 9,
     "metadata": {},
     "output_type": "execute_result"
    }
   ],
   "source": [
    "df.isnull().sum()"
   ]
  },
  {
   "cell_type": "code",
   "execution_count": 10,
   "id": "d2168e89-f236-4467-be88-d2106986423e",
   "metadata": {},
   "outputs": [
    {
     "name": "stdout",
     "output_type": "stream",
     "text": [
      "\n",
      "Missing values after handling:\n",
      "InvoiceNo      0\n",
      "StockCode      0\n",
      "Description    0\n",
      "Quantity       0\n",
      "InvoiceDate    0\n",
      "UnitPrice      0\n",
      "CustomerID     0\n",
      "Country        0\n",
      "dtype: int64\n"
     ]
    }
   ],
   "source": [
    "# imupting descriptiom based on stock code\n",
    "description_impute = df.groupby('StockCode')['Description'].apply(lambda x: x.mode()[0] if not x.mode().empty else \"Unknown Item\")\n",
    "df['Description'] = df.apply(lambda row: description_impute[row['StockCode']] if pd.isnull(row['Description']) else row['Description'], axis=1)\n",
    "\n",
    "# retaining customer id\n",
    "df['CustomerID'] = df['CustomerID'].fillna(0)\n",
    "\n",
    "# Checking for missing values after handling\n",
    "print(\"\\nMissing values after handling:\")\n",
    "print(df.isnull().sum())\n"
   ]
  },
  {
   "cell_type": "code",
   "execution_count": 11,
   "id": "a85ad064-7b71-47d3-8e91-807548c98f42",
   "metadata": {},
   "outputs": [
    {
     "data": {
      "text/html": [
       "<div>\n",
       "<style scoped>\n",
       "    .dataframe tbody tr th:only-of-type {\n",
       "        vertical-align: middle;\n",
       "    }\n",
       "\n",
       "    .dataframe tbody tr th {\n",
       "        vertical-align: top;\n",
       "    }\n",
       "\n",
       "    .dataframe thead th {\n",
       "        text-align: right;\n",
       "    }\n",
       "</style>\n",
       "<table border=\"1\" class=\"dataframe\">\n",
       "  <thead>\n",
       "    <tr style=\"text-align: right;\">\n",
       "      <th></th>\n",
       "      <th>InvoiceNo</th>\n",
       "      <th>StockCode</th>\n",
       "      <th>Description</th>\n",
       "      <th>Quantity</th>\n",
       "      <th>InvoiceDate</th>\n",
       "      <th>UnitPrice</th>\n",
       "      <th>CustomerID</th>\n",
       "      <th>Country</th>\n",
       "    </tr>\n",
       "  </thead>\n",
       "  <tbody>\n",
       "    <tr>\n",
       "      <th>0</th>\n",
       "      <td>536365</td>\n",
       "      <td>85123A</td>\n",
       "      <td>WHITE HANGING HEART T-LIGHT HOLDER</td>\n",
       "      <td>6</td>\n",
       "      <td>01-12-2010 08:26</td>\n",
       "      <td>2.55</td>\n",
       "      <td>17850.0</td>\n",
       "      <td>United Kingdom</td>\n",
       "    </tr>\n",
       "    <tr>\n",
       "      <th>1</th>\n",
       "      <td>536365</td>\n",
       "      <td>71053</td>\n",
       "      <td>WHITE METAL LANTERN</td>\n",
       "      <td>6</td>\n",
       "      <td>01-12-2010 08:26</td>\n",
       "      <td>3.39</td>\n",
       "      <td>17850.0</td>\n",
       "      <td>United Kingdom</td>\n",
       "    </tr>\n",
       "    <tr>\n",
       "      <th>2</th>\n",
       "      <td>536365</td>\n",
       "      <td>84406B</td>\n",
       "      <td>CREAM CUPID HEARTS COAT HANGER</td>\n",
       "      <td>8</td>\n",
       "      <td>01-12-2010 08:26</td>\n",
       "      <td>2.75</td>\n",
       "      <td>17850.0</td>\n",
       "      <td>United Kingdom</td>\n",
       "    </tr>\n",
       "    <tr>\n",
       "      <th>3</th>\n",
       "      <td>536365</td>\n",
       "      <td>84029G</td>\n",
       "      <td>KNITTED UNION FLAG HOT WATER BOTTLE</td>\n",
       "      <td>6</td>\n",
       "      <td>01-12-2010 08:26</td>\n",
       "      <td>3.39</td>\n",
       "      <td>17850.0</td>\n",
       "      <td>United Kingdom</td>\n",
       "    </tr>\n",
       "    <tr>\n",
       "      <th>4</th>\n",
       "      <td>536365</td>\n",
       "      <td>84029E</td>\n",
       "      <td>RED WOOLLY HOTTIE WHITE HEART.</td>\n",
       "      <td>6</td>\n",
       "      <td>01-12-2010 08:26</td>\n",
       "      <td>3.39</td>\n",
       "      <td>17850.0</td>\n",
       "      <td>United Kingdom</td>\n",
       "    </tr>\n",
       "  </tbody>\n",
       "</table>\n",
       "</div>"
      ],
      "text/plain": [
       "  InvoiceNo StockCode                          Description  Quantity  \\\n",
       "0    536365    85123A   WHITE HANGING HEART T-LIGHT HOLDER         6   \n",
       "1    536365     71053                  WHITE METAL LANTERN         6   \n",
       "2    536365    84406B       CREAM CUPID HEARTS COAT HANGER         8   \n",
       "3    536365    84029G  KNITTED UNION FLAG HOT WATER BOTTLE         6   \n",
       "4    536365    84029E       RED WOOLLY HOTTIE WHITE HEART.         6   \n",
       "\n",
       "        InvoiceDate  UnitPrice  CustomerID         Country  \n",
       "0  01-12-2010 08:26       2.55     17850.0  United Kingdom  \n",
       "1  01-12-2010 08:26       3.39     17850.0  United Kingdom  \n",
       "2  01-12-2010 08:26       2.75     17850.0  United Kingdom  \n",
       "3  01-12-2010 08:26       3.39     17850.0  United Kingdom  \n",
       "4  01-12-2010 08:26       3.39     17850.0  United Kingdom  "
      ]
     },
     "execution_count": 11,
     "metadata": {},
     "output_type": "execute_result"
    }
   ],
   "source": [
    "df.head()"
   ]
  },
  {
   "cell_type": "markdown",
   "id": "3d3f888f-1263-407f-9411-e00dde57652c",
   "metadata": {},
   "source": [
    "### Handling duplicates"
   ]
  },
  {
   "cell_type": "code",
   "execution_count": 12,
   "id": "76e4ddd0-97c9-4d3e-b9ec-3a9d58d11a53",
   "metadata": {},
   "outputs": [
    {
     "name": "stdout",
     "output_type": "stream",
     "text": [
      "       InvoiceNo StockCode                        Description  Quantity  \\\n",
      "517       536409     21866        UNION JACK FLAG LUGGAGE TAG         1   \n",
      "527       536409     22866      HAND WARMER SCOTTY DOG DESIGN         1   \n",
      "537       536409     22900    SET 2 TEA TOWELS I LOVE LONDON          1   \n",
      "539       536409     22111       SCOTTIE DOG HOT WATER BOTTLE         1   \n",
      "555       536412     22327  ROUND SNACK BOXES SET OF 4 SKULLS         1   \n",
      "...          ...       ...                                ...       ...   \n",
      "541675    581538     22068        BLACK PIRATE TREASURE CHEST         1   \n",
      "541689    581538     23318     BOX OF 6 MINI VINTAGE CRACKERS         1   \n",
      "541692    581538     22992             REVOLVER WOODEN RULER          1   \n",
      "541699    581538     22694                       WICKER STAR          1   \n",
      "541701    581538     23343       JUMBO BAG VINTAGE CHRISTMAS          1   \n",
      "\n",
      "             InvoiceDate  UnitPrice  CustomerID         Country  \n",
      "517     01-12-2010 11:45       1.25     17908.0  United Kingdom  \n",
      "527     01-12-2010 11:45       2.10     17908.0  United Kingdom  \n",
      "537     01-12-2010 11:45       2.95     17908.0  United Kingdom  \n",
      "539     01-12-2010 11:45       4.95     17908.0  United Kingdom  \n",
      "555     01-12-2010 11:49       2.95     17920.0  United Kingdom  \n",
      "...                  ...        ...         ...             ...  \n",
      "541675  09-12-2011 11:34       0.39     14446.0  United Kingdom  \n",
      "541689  09-12-2011 11:34       2.49     14446.0  United Kingdom  \n",
      "541692  09-12-2011 11:34       1.95     14446.0  United Kingdom  \n",
      "541699  09-12-2011 11:34       2.10     14446.0  United Kingdom  \n",
      "541701  09-12-2011 11:34       2.08     14446.0  United Kingdom  \n",
      "\n",
      "[5268 rows x 8 columns]\n"
     ]
    }
   ],
   "source": [
    "# Check for duplicate rows\n",
    "duplicate_rows = df[df.duplicated()]\n",
    "print(duplicate_rows)\n"
   ]
  },
  {
   "cell_type": "code",
   "execution_count": 11,
   "id": "4bb990b9-6892-47be-833c-8101471eec11",
   "metadata": {},
   "outputs": [
    {
     "name": "stdout",
     "output_type": "stream",
     "text": [
      "       InvoiceNo StockCode                        Description  Quantity  \\\n",
      "517       536409     21866        UNION JACK FLAG LUGGAGE TAG         1   \n",
      "527       536409     22866      HAND WARMER SCOTTY DOG DESIGN         1   \n",
      "537       536409     22900    SET 2 TEA TOWELS I LOVE LONDON          1   \n",
      "539       536409     22111       SCOTTIE DOG HOT WATER BOTTLE         1   \n",
      "555       536412     22327  ROUND SNACK BOXES SET OF 4 SKULLS         1   \n",
      "...          ...       ...                                ...       ...   \n",
      "541675    581538     22068        BLACK PIRATE TREASURE CHEST         1   \n",
      "541689    581538     23318     BOX OF 6 MINI VINTAGE CRACKERS         1   \n",
      "541692    581538     22992             REVOLVER WOODEN RULER          1   \n",
      "541699    581538     22694                       WICKER STAR          1   \n",
      "541701    581538     23343       JUMBO BAG VINTAGE CHRISTMAS          1   \n",
      "\n",
      "             InvoiceDate  UnitPrice  CustomerID         Country  \n",
      "517     01-12-2010 11:45       1.25     17908.0  United Kingdom  \n",
      "527     01-12-2010 11:45       2.10     17908.0  United Kingdom  \n",
      "537     01-12-2010 11:45       2.95     17908.0  United Kingdom  \n",
      "539     01-12-2010 11:45       4.95     17908.0  United Kingdom  \n",
      "555     01-12-2010 11:49       2.95     17920.0  United Kingdom  \n",
      "...                  ...        ...         ...             ...  \n",
      "541675  09-12-2011 11:34       0.39     14446.0  United Kingdom  \n",
      "541689  09-12-2011 11:34       2.49     14446.0  United Kingdom  \n",
      "541692  09-12-2011 11:34       1.95     14446.0  United Kingdom  \n",
      "541699  09-12-2011 11:34       2.10     14446.0  United Kingdom  \n",
      "541701  09-12-2011 11:34       2.08     14446.0  United Kingdom  \n",
      "\n",
      "[5268 rows x 8 columns]\n",
      "       InvoiceNo StockCode                      Description  Quantity  \\\n",
      "125       536381     71270                  PHOTO CLIP LINE         3   \n",
      "498       536409    90199C  5 STRAND GLASS NECKLACE CRYSTAL         1   \n",
      "502       536409     85116  BLACK CANDELABRA T-LIGHT HOLDER         5   \n",
      "517       536409     21866      UNION JACK FLAG LUGGAGE TAG         1   \n",
      "525       536409    90199C  5 STRAND GLASS NECKLACE CRYSTAL         2   \n",
      "...          ...       ...                              ...       ...   \n",
      "541692    581538     22992           REVOLVER WOODEN RULER          1   \n",
      "541697    581538     21194        PINK  HONEYCOMB PAPER FAN         1   \n",
      "541698    581538    35004B      SET OF 3 BLACK FLYING DUCKS         1   \n",
      "541699    581538     22694                     WICKER STAR          1   \n",
      "541701    581538     23343     JUMBO BAG VINTAGE CHRISTMAS          1   \n",
      "\n",
      "             InvoiceDate  UnitPrice  CustomerID         Country  \n",
      "125     01-12-2010 09:41       1.25     15311.0  United Kingdom  \n",
      "498     01-12-2010 11:45       6.35     17908.0  United Kingdom  \n",
      "502     01-12-2010 11:45       2.10     17908.0  United Kingdom  \n",
      "517     01-12-2010 11:45       1.25     17908.0  United Kingdom  \n",
      "525     01-12-2010 11:45       6.35     17908.0  United Kingdom  \n",
      "...                  ...        ...         ...             ...  \n",
      "541692  09-12-2011 11:34       1.95     14446.0  United Kingdom  \n",
      "541697  09-12-2011 11:34       0.65     14446.0  United Kingdom  \n",
      "541698  09-12-2011 11:34       5.45     14446.0  United Kingdom  \n",
      "541699  09-12-2011 11:34       2.10     14446.0  United Kingdom  \n",
      "541701  09-12-2011 11:34       2.08     14446.0  United Kingdom  \n",
      "\n",
      "[10684 rows x 8 columns]\n"
     ]
    }
   ],
   "source": [
    "# Check for all duplicate rows\n",
    "print(df[df.duplicated()])\n",
    "\n",
    "# Check for duplicate rows based on specific columns\n",
    "print(df[df.duplicated(subset=['InvoiceNo', 'StockCode'])])\n"
   ]
  },
  {
   "cell_type": "code",
   "execution_count": 12,
   "id": "b10541e4-0967-4407-8554-0cb37cf1efdf",
   "metadata": {},
   "outputs": [],
   "source": [
    "# Drop duplicate rows and keep the first occurrence\n",
    "df_cleaned = df.drop_duplicates()\n"
   ]
  },
  {
   "cell_type": "code",
   "execution_count": 13,
   "id": "80e83542-fa85-4660-a3e7-d33ee6f15baf",
   "metadata": {},
   "outputs": [],
   "source": [
    "# Drop duplicates and keep the last occurrence\n",
    "df_cleaned = df.drop_duplicates(keep='last')\n"
   ]
  },
  {
   "cell_type": "code",
   "execution_count": 14,
   "id": "b12e92fa-05cd-41f6-842d-92aa2aced925",
   "metadata": {},
   "outputs": [],
   "source": [
    "# Drop duplicates based on 'InvoiceNo' and 'StockCode'\n",
    "df_cleaned = df.drop_duplicates(subset=['InvoiceNo', 'StockCode'])\n"
   ]
  },
  {
   "cell_type": "code",
   "execution_count": 15,
   "id": "4c338faa-ea04-4bf3-9f8d-f525505d7fc9",
   "metadata": {},
   "outputs": [],
   "source": [
    "# Group by duplicate identifiers and aggregate Quantity\n",
    "df_cleaned = df.groupby(['InvoiceNo', 'StockCode'], as_index=False).agg({\n",
    "    'Quantity': 'sum',\n",
    "    'UnitPrice': 'mean',  # Use mean for numeric columns if needed\n",
    "    'Description': 'first',  # Retain first description\n",
    "    'CustomerID': 'first',   # Retain first customer ID\n",
    "    'Country': 'first'       # Retain first country\n",
    "})\n"
   ]
  },
  {
   "cell_type": "code",
   "execution_count": 1,
   "id": "72792ae6-43c6-413a-b4ac-853f648f2f25",
   "metadata": {},
   "outputs": [
    {
     "ename": "NameError",
     "evalue": "name 'df' is not defined",
     "output_type": "error",
     "traceback": [
      "\u001b[1;31m---------------------------------------------------------------------------\u001b[0m",
      "\u001b[1;31mNameError\u001b[0m                                 Traceback (most recent call last)",
      "Cell \u001b[1;32mIn[1], line 2\u001b[0m\n\u001b[0;32m      1\u001b[0m \u001b[38;5;66;03m# Create a column to flag duplicates\u001b[39;00m\n\u001b[1;32m----> 2\u001b[0m df[\u001b[38;5;124m'\u001b[39m\u001b[38;5;124mis_duplicate\u001b[39m\u001b[38;5;124m'\u001b[39m] \u001b[38;5;241m=\u001b[39m \u001b[43mdf\u001b[49m\u001b[38;5;241m.\u001b[39mduplicated()\n\u001b[0;32m      3\u001b[0m \u001b[38;5;28mprint\u001b[39m(df[df\u001b[38;5;241m.\u001b[39mduplicated()])\n",
      "\u001b[1;31mNameError\u001b[0m: name 'df' is not defined"
     ]
    }
   ],
   "source": [
    "# Create a column to flag duplicates\n",
    "df['is_duplicate'] = df.duplicated()\n",
    "print(df[df.duplicated()])"
   ]
  },
  {
   "cell_type": "markdown",
   "id": "d6b57cee-6d48-4f8b-b1ba-72e3bb2399e0",
   "metadata": {},
   "source": [
    "# checking remaining duplicates"
   ]
  },
  {
   "cell_type": "code",
   "execution_count": 18,
   "id": "b50e4951-becc-4491-995c-fe443d2e2595",
   "metadata": {},
   "outputs": [
    {
     "name": "stdout",
     "output_type": "stream",
     "text": [
      "       InvoiceNo StockCode                        Description  Quantity  \\\n",
      "517       536409     21866        UNION JACK FLAG LUGGAGE TAG         1   \n",
      "527       536409     22866      HAND WARMER SCOTTY DOG DESIGN         1   \n",
      "537       536409     22900    SET 2 TEA TOWELS I LOVE LONDON          1   \n",
      "539       536409     22111       SCOTTIE DOG HOT WATER BOTTLE         1   \n",
      "555       536412     22327  ROUND SNACK BOXES SET OF 4 SKULLS         1   \n",
      "...          ...       ...                                ...       ...   \n",
      "541675    581538     22068        BLACK PIRATE TREASURE CHEST         1   \n",
      "541689    581538     23318     BOX OF 6 MINI VINTAGE CRACKERS         1   \n",
      "541692    581538     22992             REVOLVER WOODEN RULER          1   \n",
      "541699    581538     22694                       WICKER STAR          1   \n",
      "541701    581538     23343       JUMBO BAG VINTAGE CHRISTMAS          1   \n",
      "\n",
      "             InvoiceDate  UnitPrice  CustomerID         Country  is_duplicate  \n",
      "517     01-12-2010 11:45       1.25     17908.0  United Kingdom         False  \n",
      "527     01-12-2010 11:45       2.10     17908.0  United Kingdom         False  \n",
      "537     01-12-2010 11:45       2.95     17908.0  United Kingdom         False  \n",
      "539     01-12-2010 11:45       4.95     17908.0  United Kingdom         False  \n",
      "555     01-12-2010 11:49       2.95     17920.0  United Kingdom         False  \n",
      "...                  ...        ...         ...             ...           ...  \n",
      "541675  09-12-2011 11:34       0.39     14446.0  United Kingdom         False  \n",
      "541689  09-12-2011 11:34       2.49     14446.0  United Kingdom         False  \n",
      "541692  09-12-2011 11:34       1.95     14446.0  United Kingdom         False  \n",
      "541699  09-12-2011 11:34       2.10     14446.0  United Kingdom         False  \n",
      "541701  09-12-2011 11:34       2.08     14446.0  United Kingdom         False  \n",
      "\n",
      "[4977 rows x 9 columns]\n",
      "Number of duplicate rows: 4977\n"
     ]
    }
   ],
   "source": [
    "# Check for any remaining duplicate rows\n",
    "remaining_duplicates = df[df.duplicated()]\n",
    "print(remaining_duplicates)\n",
    "\n",
    "# Count the number of remaining duplicate rows\n",
    "print(f\"Number of duplicate rows: {remaining_duplicates.shape[0]}\")\n"
   ]
  },
  {
   "cell_type": "code",
   "execution_count": 19,
   "id": "112c312b-0946-4a06-885e-1299eea0cdef",
   "metadata": {},
   "outputs": [
    {
     "name": "stdout",
     "output_type": "stream",
     "text": [
      "    InvoiceNo StockCode                        Description  Quantity  \\\n",
      "517    536409     21866        UNION JACK FLAG LUGGAGE TAG         1   \n",
      "527    536409     22866      HAND WARMER SCOTTY DOG DESIGN         1   \n",
      "537    536409     22900    SET 2 TEA TOWELS I LOVE LONDON          1   \n",
      "539    536409     22111       SCOTTIE DOG HOT WATER BOTTLE         1   \n",
      "555    536412     22327  ROUND SNACK BOXES SET OF 4 SKULLS         1   \n",
      "587    536412     22273               FELTCRAFT DOLL MOLLY         1   \n",
      "589    536412     22749  FELTCRAFT PRINCESS CHARLOTTE DOLL         1   \n",
      "594    536412     22141     CHRISTMAS CRAFT TREE TOP ANGEL         1   \n",
      "598    536412     21448          12 DAISY PEGS IN WOOD BOX         1   \n",
      "600    536412     22569        FELTCRAFT CUSHION BUTTERFLY         2   \n",
      "\n",
      "          InvoiceDate  UnitPrice  CustomerID         Country  is_duplicate  \n",
      "517  01-12-2010 11:45       1.25     17908.0  United Kingdom         False  \n",
      "527  01-12-2010 11:45       2.10     17908.0  United Kingdom         False  \n",
      "537  01-12-2010 11:45       2.95     17908.0  United Kingdom         False  \n",
      "539  01-12-2010 11:45       4.95     17908.0  United Kingdom         False  \n",
      "555  01-12-2010 11:49       2.95     17920.0  United Kingdom         False  \n",
      "587  01-12-2010 11:49       2.95     17920.0  United Kingdom         False  \n",
      "589  01-12-2010 11:49       3.75     17920.0  United Kingdom         False  \n",
      "594  01-12-2010 11:49       2.10     17920.0  United Kingdom         False  \n",
      "598  01-12-2010 11:49       1.65     17920.0  United Kingdom         False  \n",
      "600  01-12-2010 11:49       3.75     17920.0  United Kingdom         False  \n"
     ]
    }
   ],
   "source": [
    "print(remaining_duplicates.head(10))\n"
   ]
  },
  {
   "cell_type": "code",
   "execution_count": 20,
   "id": "919d99a6-5b55-4700-af11-463dd2985230",
   "metadata": {},
   "outputs": [],
   "source": [
    "# Recalculate the 'is_duplicate' flag\n",
    "df['is_duplicate'] = df.duplicated(keep=False)\n"
   ]
  },
  {
   "cell_type": "code",
   "execution_count": 21,
   "id": "17cc836f-e5cb-4442-87ed-7e2c5050012d",
   "metadata": {},
   "outputs": [],
   "source": [
    "# Drop duplicates\n",
    "df = df.drop_duplicates(subset=['InvoiceNo', 'StockCode'])\n"
   ]
  },
  {
   "cell_type": "code",
   "execution_count": 22,
   "id": "2625e21b-d7d4-42c8-9f3f-24c9aca115ba",
   "metadata": {},
   "outputs": [],
   "source": [
    "df = df.drop_duplicates()\n"
   ]
  },
  {
   "cell_type": "code",
   "execution_count": 23,
   "id": "6f4198ba-48a9-4de0-b5de-e016d3b9d3de",
   "metadata": {},
   "outputs": [
    {
     "name": "stdout",
     "output_type": "stream",
     "text": [
      "Empty DataFrame\n",
      "Columns: [InvoiceNo, StockCode, Description, Quantity, InvoiceDate, UnitPrice, CustomerID, Country, is_duplicate]\n",
      "Index: []\n"
     ]
    }
   ],
   "source": [
    "remaining_duplicates = df[df.duplicated()]\n",
    "print(remaining_duplicates.head(10))\n"
   ]
  },
  {
   "cell_type": "markdown",
   "id": "d5ad1f4a-842f-47f2-bd52-e3e49d4012ad",
   "metadata": {},
   "source": [
    "# EDA"
   ]
  },
  {
   "cell_type": "code",
   "execution_count": null,
   "id": "0dbfd714-3fb4-4f58-a956-d88ef4c9b983",
   "metadata": {},
   "outputs": [],
   "source": [
    "df['Month'] = df['InvoiceDate'].dt.month_name()\n",
    "df['Day'] = df['InvoiceDate'].dt.day_name()\n",
    "df['Year']= df['InvoiceDate'].dt.year\n",
    "df['Time'] = df['InvoiceDate'].dt.time"
   ]
  },
  {
   "cell_type": "code",
   "execution_count": null,
   "id": "52b234d7-a6e9-43e7-a371-9d0eade45271",
   "metadata": {},
   "outputs": [],
   "source": []
  },
  {
   "cell_type": "code",
   "execution_count": null,
   "id": "12d117cb-386a-435d-8e3f-d2da9a9c178b",
   "metadata": {},
   "outputs": [],
   "source": []
  },
  {
   "cell_type": "code",
   "execution_count": null,
   "id": "e8f9539f-769c-455b-9628-04b451ea03cb",
   "metadata": {},
   "outputs": [],
   "source": []
  },
  {
   "cell_type": "code",
   "execution_count": null,
   "id": "4a4ff969-04cc-40e6-824f-9cce18806847",
   "metadata": {},
   "outputs": [],
   "source": []
  },
  {
   "cell_type": "code",
   "execution_count": null,
   "id": "3eaf753c-164e-481f-b6da-ee6015877801",
   "metadata": {},
   "outputs": [],
   "source": []
  },
  {
   "cell_type": "code",
   "execution_count": null,
   "id": "0cc6af83-fe62-4946-b1df-e8fcac28ac22",
   "metadata": {},
   "outputs": [],
   "source": []
  },
  {
   "cell_type": "code",
   "execution_count": null,
   "id": "7f1cac32-65f4-46b0-8d08-db9ab163c342",
   "metadata": {},
   "outputs": [],
   "source": []
  },
  {
   "cell_type": "code",
   "execution_count": null,
   "id": "9437a5ea-1fcb-46b0-b5e3-1dc1fc931377",
   "metadata": {},
   "outputs": [],
   "source": []
  },
  {
   "cell_type": "code",
   "execution_count": null,
   "id": "50990ccd-211f-42b5-bb83-557b512ebcdf",
   "metadata": {},
   "outputs": [],
   "source": []
  },
  {
   "cell_type": "code",
   "execution_count": null,
   "id": "2b614065-41d4-4aa0-bdc2-8e0d0499372d",
   "metadata": {},
   "outputs": [],
   "source": []
  },
  {
   "cell_type": "code",
   "execution_count": null,
   "id": "d8163c41-9074-48c0-b7f7-84460de2d6a5",
   "metadata": {},
   "outputs": [],
   "source": []
  },
  {
   "cell_type": "code",
   "execution_count": null,
   "id": "428b8695-d68c-4d0b-80e9-ea46b5b2b99a",
   "metadata": {},
   "outputs": [],
   "source": []
  },
  {
   "cell_type": "code",
   "execution_count": null,
   "id": "131c2344-b165-453e-bbe3-78969a29f13a",
   "metadata": {},
   "outputs": [],
   "source": []
  },
  {
   "cell_type": "code",
   "execution_count": null,
   "id": "12095c1b-05c6-425f-8c3b-f01c455437e6",
   "metadata": {},
   "outputs": [],
   "source": []
  },
  {
   "cell_type": "code",
   "execution_count": null,
   "id": "7c6ab4cb-abc2-4114-87d5-d6a24bfbb59e",
   "metadata": {},
   "outputs": [],
   "source": []
  },
  {
   "cell_type": "code",
   "execution_count": null,
   "id": "f9c3e714-1c0f-4a9a-9f3b-fc5c0992425b",
   "metadata": {},
   "outputs": [],
   "source": []
  },
  {
   "cell_type": "code",
   "execution_count": null,
   "id": "46f3dbe6-36a1-4ec2-9a9d-c463f74a0e15",
   "metadata": {},
   "outputs": [],
   "source": []
  },
  {
   "cell_type": "code",
   "execution_count": null,
   "id": "566a173d-8f85-44ea-843a-b8182845b921",
   "metadata": {},
   "outputs": [],
   "source": []
  },
  {
   "cell_type": "code",
   "execution_count": null,
   "id": "5eeff089-074c-44b3-86d2-93db42d0e612",
   "metadata": {},
   "outputs": [],
   "source": []
  },
  {
   "cell_type": "code",
   "execution_count": null,
   "id": "2e5f1070-7dff-4ac9-be98-dfaac842d3fe",
   "metadata": {},
   "outputs": [],
   "source": []
  },
  {
   "cell_type": "code",
   "execution_count": null,
   "id": "87eb4d38-7b95-4fd6-a459-a10a7edfb2c8",
   "metadata": {},
   "outputs": [],
   "source": []
  },
  {
   "cell_type": "code",
   "execution_count": null,
   "id": "a8631784-bd46-4abd-a13f-443336ae1a19",
   "metadata": {},
   "outputs": [],
   "source": []
  },
  {
   "cell_type": "code",
   "execution_count": null,
   "id": "101caf93-1765-4e6f-a840-4d7f27af0590",
   "metadata": {},
   "outputs": [],
   "source": []
  },
  {
   "cell_type": "code",
   "execution_count": null,
   "id": "1806f327-a800-4754-a641-e882169de0d5",
   "metadata": {},
   "outputs": [],
   "source": []
  },
  {
   "cell_type": "code",
   "execution_count": null,
   "id": "761a3777-d997-414e-b18a-bf4e5408eae5",
   "metadata": {},
   "outputs": [],
   "source": []
  },
  {
   "cell_type": "code",
   "execution_count": null,
   "id": "a1c7232b-425c-4f48-bbfa-e891664323a6",
   "metadata": {},
   "outputs": [],
   "source": []
  },
  {
   "cell_type": "code",
   "execution_count": null,
   "id": "62884f1b-d3b1-4214-ae64-f70d2519228d",
   "metadata": {},
   "outputs": [],
   "source": []
  },
  {
   "cell_type": "code",
   "execution_count": null,
   "id": "a2de8f87-0d94-40f6-83bf-a747a2c71168",
   "metadata": {},
   "outputs": [],
   "source": []
  },
  {
   "cell_type": "code",
   "execution_count": null,
   "id": "31c1315d-a0ba-4e57-b762-bdbd6b2ad8c5",
   "metadata": {},
   "outputs": [],
   "source": []
  },
  {
   "cell_type": "code",
   "execution_count": null,
   "id": "23c3ac4c-fb57-4410-9ce4-0bf530d6007c",
   "metadata": {},
   "outputs": [],
   "source": []
  },
  {
   "cell_type": "code",
   "execution_count": null,
   "id": "f2024b09-4b18-4f8c-8493-07849c75d07d",
   "metadata": {},
   "outputs": [],
   "source": []
  },
  {
   "cell_type": "code",
   "execution_count": null,
   "id": "46c0e460-87bc-4996-8244-ccec1f6f9b30",
   "metadata": {},
   "outputs": [],
   "source": []
  },
  {
   "cell_type": "code",
   "execution_count": null,
   "id": "c1af1140-1233-48d6-b860-e8912b2d666d",
   "metadata": {},
   "outputs": [],
   "source": []
  },
  {
   "cell_type": "code",
   "execution_count": null,
   "id": "f2931871-3780-44d8-bb81-8386472cec88",
   "metadata": {},
   "outputs": [],
   "source": []
  },
  {
   "cell_type": "code",
   "execution_count": null,
   "id": "214b66c8-bfc2-4dc2-9969-a2e70a0383cb",
   "metadata": {},
   "outputs": [],
   "source": []
  },
  {
   "cell_type": "code",
   "execution_count": null,
   "id": "1e093181-b71e-402d-a52a-d37708168b24",
   "metadata": {},
   "outputs": [],
   "source": []
  },
  {
   "cell_type": "code",
   "execution_count": null,
   "id": "b6f4378f-388d-4499-b6f3-f3aac9c742d3",
   "metadata": {},
   "outputs": [],
   "source": []
  }
 ],
 "metadata": {
  "kernelspec": {
   "display_name": "Python 3 (ipykernel)",
   "language": "python",
   "name": "python3"
  },
  "language_info": {
   "codemirror_mode": {
    "name": "ipython",
    "version": 3
   },
   "file_extension": ".py",
   "mimetype": "text/x-python",
   "name": "python",
   "nbconvert_exporter": "python",
   "pygments_lexer": "ipython3",
   "version": "3.12.3"
  }
 },
 "nbformat": 4,
 "nbformat_minor": 5
}
